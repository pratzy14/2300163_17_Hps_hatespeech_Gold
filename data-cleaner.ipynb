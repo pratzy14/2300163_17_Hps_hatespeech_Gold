{
 "cells": [
  {
   "cell_type": "code",
   "execution_count": 166,
   "metadata": {},
   "outputs": [],
   "source": [
    "import pandas as pd\n",
    "import numpy as np\n",
    "import string\n",
    "import re"
   ]
  },
  {
   "cell_type": "code",
   "execution_count": 183,
   "metadata": {},
   "outputs": [],
   "source": [
    "data_df = pd.read_csv('data.csv', encoding = \"ISO-8859-1\")\n",
    "kamus_slang = pd.read_csv('new_kamusalay.csv', header=None, names=['slang', 'baku'], encoding=\"ISO-8859-1\")\n",
    "abusive_words = pd.read_csv('abusive.csv', encoding=\"ISO-8859-1\")['ABUSIVE'].tolist()"
   ]
  },
  {
   "cell_type": "code",
   "execution_count": 184,
   "metadata": {},
   "outputs": [],
   "source": [
    "# Menghilangkan kata \"USER\" dan \"RT\"\n",
    "data_df['Tweet'] = data_df['Tweet'].replace(r'USER', '', regex=True)\n",
    "data_df['Tweet'] = data_df['Tweet'].replace(r'RT', '', regex=True)\n",
    "\n",
    "#Membuat semua huruf menjadi lowercase\n",
    "data_df['Tweet'] = data_df['Tweet'].str.lower()\n",
    "\n",
    "#Menghapus semua tanda baca\n",
    "data_df['Tweet'] = data_df['Tweet'].str.replace(r'[^\\w\\s]', '', regex=True)\n",
    "\n",
    "#Menghapus angka\n",
    "data_df['Tweet'] = data_df['Tweet'].str.replace(r'\\d', '', regex=True)\n",
    "\n",
    "#Menhapus spasi ekstra\n",
    "data_df['Tweet'] = data_df['Tweet'].str.replace(r'\\s+', ' ', regex=True)\n",
    "\n",
    "#Menghapus tanda baca berulang\n",
    "data_df['Tweet'] = data_df['Tweet'].str.replace(r'(?:(\\.)\\1+)+', r'\\1', regex=True)\n",
    "\n",
    "#Menghapus emoji\n",
    "data_df['Tweet'] = data_df['Tweet'].str.replace(r'[\\U0001F600-\\U0001F64F\\U0001F300-\\U0001F5FF\\U0001F680-\\U0001F6FF\\U0001F700-\\U0001F77F\\U0001F780-\\U0001F7FF\\U0001F800-\\U0001F8FF\\U0001F900-\\U0001F9FF\\U0001FA00-\\U0001FA6F\\U0001FA70-\\U0001FAFF\\U00002702-\\U000027B0\\U000024C2-\\U0001F251]+', '', regex=True)\n",
    "\n",
    "#Menghapus emoticon\n",
    "data_df['Tweet'] = data_df['Tweet'].str.replace(r'[\\U00002600-\\U000027BF\\U0001f300-\\U0001f64F\\U0001f680-\\U0001f6FF\\U0001f700-\\U0001f77F\\U0001f780-\\U0001f7FF\\U0001f800-\\U0001f8FF\\U0001f900-\\U0001f9FF\\U0001fa00-\\U0001fa6F\\U0001fa70-\\U0001faFF\\U00002190-\\U000021FF]+', '', regex=True)\n",
    "\n",
    "#Menghapus duplikasi\n",
    "data_df.drop_duplicates(subset=['Tweet'], keep='first', inplace=True)"
   ]
  },
  {
   "cell_type": "code",
   "execution_count": 187,
   "metadata": {},
   "outputs": [
    {
     "name": "stderr",
     "output_type": "stream",
     "text": [
      "/var/folders/4_/qbxc6_011s35mgxlm4k342lh0000gn/T/ipykernel_79098/1827897581.py:8: DeprecationWarning: The truth value of an empty array is ambiguous. Returning False, but in future this will result in an error. Use `array.size > 0` to check that an array is not empty.\n",
      "  updated_words.append(replacement[0] if replacement else word)\n"
     ]
    }
   ],
   "source": [
    "#Mengganti kata slang ke kata baku\n",
    "def ganti_kata_baku(tweet):\n",
    "    words = tweet.split()\n",
    "    updated_words = []\n",
    "    \n",
    "    for word in words:\n",
    "        replacement = kamus_slang[kamus_slang['slang'] == word]['baku'].values\n",
    "        updated_words.append(replacement[0] if replacement else word)\n",
    "\n",
    "    return ' '.join(updated_words)\n",
    "\n",
    "# Terapkan fungsi pada kolom Tweet\n",
    "data_df['Tweet'] = data_df['Tweet'].apply(ganti_kata_baku)"
   ]
  },
  {
   "cell_type": "code",
   "execution_count": 188,
   "metadata": {},
   "outputs": [],
   "source": [
    "data_df['Tweet'] = data_df['Tweet'].apply(lambda x: ' '.join(['' if word in abusive_words else word for word in x.split()]))"
   ]
  },
  {
   "cell_type": "code",
   "execution_count": 191,
   "metadata": {},
   "outputs": [],
   "source": [
    "df = data_df[['Tweet']]"
   ]
  },
  {
   "cell_type": "code",
   "execution_count": 192,
   "metadata": {},
   "outputs": [],
   "source": [
    "df.to_csv('data_cleaned_final.csv', index=False)"
   ]
  }
 ],
 "metadata": {
  "kernelspec": {
   "display_name": "Python 3",
   "language": "python",
   "name": "python3"
  },
  "language_info": {
   "codemirror_mode": {
    "name": "ipython",
    "version": 3
   },
   "file_extension": ".py",
   "mimetype": "text/x-python",
   "name": "python",
   "nbconvert_exporter": "python",
   "pygments_lexer": "ipython3",
   "version": "3.12.0"
  }
 },
 "nbformat": 4,
 "nbformat_minor": 2
}
